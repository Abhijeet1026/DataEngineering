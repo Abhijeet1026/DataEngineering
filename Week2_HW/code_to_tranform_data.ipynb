import pandas as pd
import re

if 'transformer' not in globals():
    from mage_ai.data_preparation.decorators import transformer
if 'test' not in globals():
    from mage_ai.data_preparation.decorators import test


@transformer
def transform(data, *args, **kwargs):
    print("Rows with zero passenger count", data["passenger_count"].isin([0]).sum())
    print("Rows with zero trip distance", data["trip_distance"].isin([0]).sum())
    data.lpep_pickup_datetime = pd.to_datetime(data.lpep_pickup_datetime)
    data.lpep_dropoff_datetime = pd.to_datetime(data.lpep_dropoff_datetime)


    data = data[data['passenger_count'] > 0]
    data = data[data['trip_distance'] > 0]
   

    print("Unique vendor id in the dataframe", data['VendorID'].unique())
    data['lpep_pickup_date'] = data['lpep_pickup_datetime'].dt.date
    print(data.shape)
    print(data['lpep_pickup_date'].nunique())
    
    c = 0
    for col in data.columns:
        name = re.sub('(.)([A-Z][a-z]+)', r'\1_\2', col)
        name =re.sub('([a-z0-9])([A-Z])', r'\1_\2', name).lower()
    
        if col != name:
            c = c + 1
            data = data.rename(columns={col: name})
            print(f"Old column name :{col} - New column name :{name}" )

        
    
    print("Number of columns converted to snake", c)

    return data



@test
def test_output(output, *args) -> None:
   assert output['passenger_count'].isin([0]).sum() == 0, 'There are rides with zero passenger'
    
@test
def test_output(output, *args) -> None:
   assert output['trip_distance'].isin([0]).sum() == 0, 'There are rides with zero trip distance'

@test
def test_output(output, *args) :
   assert output['vendor_id'].isin([1]).sum() > 1, 'Vendor Id 1 does not exist'
