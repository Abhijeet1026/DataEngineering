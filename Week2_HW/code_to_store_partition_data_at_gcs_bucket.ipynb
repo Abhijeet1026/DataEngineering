
import pyarrow as pa
import pyarrow.parquet as pq
import os

if 'data_exporter' not in globals():
    from mage_ai.data_preparation.decorators import data_exporter

os.environ['GOOGLE_APPLICATION_CRENDENTIALS'] = '/home/src/celestial-baton-291921-482e13351849.json'

bucket_name = 'zoomcamp-mage-bucket-storage'
project_id = 'celestial-baton-291921'

table_name = 'nyc_green_taxi_data'

root_path = f'{bucket_name}/{table_name}'


@data_exporter
def export_data(data, *args, **kwargs):
    print(data.shape)
    table = pa.Table.from_pandas(data)

    gcs = pa.fs.GcsFileSystem()

    pq.write_to_dataset(
        table,
        root_path = root_path,
        partition_cols = ['lpep_pickup_date'],
        filesystem = gcs
    )


    

